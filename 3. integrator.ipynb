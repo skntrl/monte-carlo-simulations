{
 "cells": [
  {
   "cell_type": "markdown",
   "id": "0366e5ef-52bc-4a32-a8f8-c6ce6d4b390e",
   "metadata": {},
   "source": [
    "# Integrator  \n",
    "\n",
    "Idea is that this will show how we can approximate a definite integral. It's actually very interesting and you'll have fun reading this.  "
   ]
  },
  {
   "cell_type": "markdown",
   "id": "b3bb6d08-4e08-4fbb-9272-64fec31e523a",
   "metadata": {
    "jp-MarkdownHeadingCollapsed": true
   },
   "source": [
    "#### Basic Integration\n",
    "\n",
    "Let's start with: $$\\int_{0}^{1} x^2\\,dx$$.  \n",
    "Since we are calculating the area under the graph in the interval $[0,1]$.  \n",
    "If you notice, this is actually the same as calculating ratio of circle_area and square_area, like we did in **monte_carlo_pi_estimation.ipynb**  \n",
    "\n",
    "Now, what we will do is follow the method of Riemann Sum to approximate the solution:  \n",
    "1. Take random uniform values in the interval $[0,1]$ - we will take a number of sample points.\n",
    "2. Calculate $f(x) = x^2$.\n",
    "3. Sum all those values together.\n",
    "4. Divide the sum obtained by total number of sample points chosen.\n",
    "\n",
    "It is the Law of Large Number that ensures our approximation will converge to the actual value as sample size increases.  \n"
   ]
  },
  {
   "cell_type": "code",
   "execution_count": 8,
   "id": "b7ea17a4-2ee7-45ff-98d1-9cd04c8482ef",
   "metadata": {},
   "outputs": [],
   "source": [
    "import random\n",
    "import numpy as np"
   ]
  },
  {
   "cell_type": "code",
   "execution_count": 16,
   "id": "ad678a96-611a-4bc1-aff4-b58d6de4b139",
   "metadata": {},
   "outputs": [
    {
     "name": "stdout",
     "output_type": "stream",
     "text": [
      "For x^2, Actual Value: 0.33...\n",
      "0.25315\n",
      "0.34867\n",
      "0.33492\n",
      "0.33573\n",
      "0.33344\n",
      "\n",
      "For sin(x), actual value approx: 0.45969...\n",
      "0.43175\n",
      "0.49833\n",
      "0.45243\n",
      "0.46015\n",
      "0.45965\n"
     ]
    }
   ],
   "source": [
    "def x_squared_function(n):\n",
    "    total_sum = 0.0\n",
    "    for _ in range(n):\n",
    "        x = random.uniform(0,1)\n",
    "        total_sum += x**2\n",
    "    return total_sum / n\n",
    "\n",
    "# For sin(x)dx in the interval [0,1]\n",
    "def sin_function(n):\n",
    "    total_sum = 0.0\n",
    "    for _ in range(n):\n",
    "        x = random.uniform(0,1)\n",
    "        total_sum += np.sin(x)\n",
    "    return total_sum / n\n",
    "\n",
    "sample_test = [10, 100, 1000, 10000, 100000]\n",
    "print(\"For x^2, Actual Value: 0.33...\")\n",
    "for n in sample_test:\n",
    "    print(f\"{x_squared_function(n):.5f}\") \n",
    "\n",
    "print(\"\\nFor sin(x), actual value approx: 0.45969...\")\n",
    "for n in sample_test:\n",
    "    print(f\"{sin_function(n):.5f}\")"
   ]
  },
  {
   "cell_type": "markdown",
   "id": "24a17597-56f6-4360-9404-fbcae23e8514",
   "metadata": {},
   "source": [
    "#### Based on the above, this is a monte carlo based Integrator that can approximate the definite integration  "
   ]
  },
  {
   "cell_type": "code",
   "execution_count": 34,
   "id": "b9236087-f7ce-4653-a7bf-c21807c6bf97",
   "metadata": {},
   "outputs": [
    {
     "name": "stdout",
     "output_type": "stream",
     "text": [
      "For function <function <lambda> at 0x73ef2953fb50>: \n",
      "0.35583\n",
      "0.39771\n",
      "0.46370\n",
      "0.46240\n",
      "0.46067\n",
      "\n",
      "\n"
     ]
    }
   ],
   "source": [
    "# General Integrator in the interval [a, b]\n",
    "def monte_carlo_integrator(f, a, b, n):\n",
    "    total_sum = 0.0\n",
    "    for _ in range(n):\n",
    "        x = random.uniform(a,b) # sampling in the interval [a,b]\n",
    "        total_sum += f(x)\n",
    "    return total_sum/n\n",
    "\n",
    "# print(monte_carlo_integrator(lambda x: x**2, 0, 1, 100000)) # works correctly\n",
    "\n",
    "def print_values(f, a, b, n):\n",
    "    print(f\"For function {f}: \")\n",
    "    sample_test = [10, 100, 1000, 10000, 100000]\n",
    "    for n in sample_test:\n",
    "        print(f\"{monte_carlo_integrator(f, a, b, n):.5f}\")\n",
    "    print(\"\\n\")\n",
    "\n",
    "# Gives good result. If I can somehow just define a function and\n",
    "# call it as parameter to print_values - it will work smoothly\n",
    "print_values(lambda x: np.sin(x), 0, 1, 100000)"
   ]
  },
  {
   "cell_type": "markdown",
   "id": "9593d671-9c6e-4fd8-8ecf-dda453fe824d",
   "metadata": {},
   "source": [
    "#### Error checking: Shows our estimate based on a confidence Intervals\n",
    "\n",
    "Will keep it basic and direct this time. \n",
    "\n",
    "I want to see how much is my estimate jumping around. Is there a fixed range? Can I decrease that range for better estimate?\n",
    "\n",
    "Answer:\n",
    "Will use confidence intervals and idea of mean (M) and variance (V).  \n",
    "Standard Error (SE) is based on standard variance and number of samples - will use it to get our confidence Interval.  \n",
    "\n",
    "Then our estimte will be as M +- SE"
   ]
  },
  {
   "cell_type": "code",
   "execution_count": 38,
   "id": "501de6df-889f-49e8-a060-71bbba28b65b",
   "metadata": {},
   "outputs": [],
   "source": [
    "import random\n",
    "import math\n",
    "\n",
    "def monte_carlo_integrator_with_error(f, n):\n",
    "    samples = [f(random.uniform(0,1)) for _ in range(n)]\n",
    "    mean = sum(samples) / n\n",
    "    variance = sum((x - mean)**2 for x in samples)/ (n-1)\n",
    "    standard_error = math.sqrt(variance) / math.sqrt(n)\n",
    "    return mean, standard_error"
   ]
  },
  {
   "cell_type": "code",
   "execution_count": 44,
   "id": "09a7f62d-0fec-4b28-9581-4b073d7de38e",
   "metadata": {},
   "outputs": [
    {
     "name": "stdout",
     "output_type": "stream",
     "text": [
      "Estimate: 0.457696 +- 0.002471\n"
     ]
    }
   ],
   "source": [
    "estimate, error = monte_carlo_integrator_with_error(math.sin, 10000)\n",
    "print(f\"Estimate: {estimate:5f} +- {error:5f}\")"
   ]
  },
  {
   "cell_type": "markdown",
   "id": "1c623a7f-699c-4df2-9c81-a74c6e2d4c12",
   "metadata": {},
   "source": [
    "#### Importance Sampling Idea\n",
    "\n",
    "Starting with obserbing that the uniform sampling does not work properly on the function $$\\int_{0}^{1} \\frac{1}{1 + x^2}\\,dx = \\tan^{-1}(1) = \\frac{\\pi}{4} \\approx 0.7854 $$."
   ]
  },
  {
   "cell_type": "code",
   "execution_count": 48,
   "id": "f5765d24-c15f-4e23-abaa-6adc1e790020",
   "metadata": {},
   "outputs": [
    {
     "name": "stdout",
     "output_type": "stream",
     "text": [
      "Estimate: 0.786076 +- 0.001609\n"
     ]
    }
   ],
   "source": [
    "estimate, error = monte_carlo_integrator_with_error(lambda x: 1 / (1 + x**2), 10000)\n",
    "print(f\"Estimate: {estimate:5f} +- {error:5f}\")"
   ]
  },
  {
   "cell_type": "markdown",
   "id": "29e04cc0-118e-441d-8033-91714dc92534",
   "metadata": {},
   "source": [
    "Answer is almost correct, but **Important Sampling** raises the main questions:  \n",
    "Can we get the same accuracy with fewer samples, or less error for the same effort?\n",
    "\n",
    "That’s where Importance Sampling steps in. Will study on next notebook"
   ]
  },
  {
   "cell_type": "code",
   "execution_count": null,
   "id": "267a9616-b4e9-4ced-86ff-38abb0b3e41b",
   "metadata": {},
   "outputs": [],
   "source": []
  }
 ],
 "metadata": {
  "kernelspec": {
   "display_name": "Python (Monte Carlo)",
   "language": "python",
   "name": "montecarlo-env"
  },
  "language_info": {
   "codemirror_mode": {
    "name": "ipython",
    "version": 3
   },
   "file_extension": ".py",
   "mimetype": "text/x-python",
   "name": "python",
   "nbconvert_exporter": "python",
   "pygments_lexer": "ipython3",
   "version": "3.10.12"
  }
 },
 "nbformat": 4,
 "nbformat_minor": 5
}
