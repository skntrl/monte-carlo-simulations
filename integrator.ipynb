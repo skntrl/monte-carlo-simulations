{
 "cells": [
  {
   "cell_type": "markdown",
   "id": "0366e5ef-52bc-4a32-a8f8-c6ce6d4b390e",
   "metadata": {},
   "source": [
    "# Integrator  \n",
    "\n",
    "Idea is that this will show how we can approximate a definite integral. It's actually very interesting and you'll have fun reading this.  "
   ]
  },
  {
   "cell_type": "markdown",
   "id": "b3bb6d08-4e08-4fbb-9272-64fec31e523a",
   "metadata": {
    "jp-MarkdownHeadingCollapsed": true
   },
   "source": [
    "#### Basic Integration\n",
    "\n",
    "Let's start with: $\\int_{0}^{1} x^2\\,dx$.  \n",
    "Since we are calculating the area under the graph in the interval $[0,1]$.  \n",
    "If you notice, this is actually the same as calculating ratio of circle_area and square_area, like we did in **monte_carlo_pi_estimation.ipynb**  \n",
    "\n",
    "Now, what we will do is follow the method of Riemann Sum to approximate the solution:  \n",
    "1. Take random uniform values in the interval $[0,1]$ - we will take a number of sample points.\n",
    "2. Calculate $f(x) = x^2$.\n",
    "3. Sum all those values together.\n",
    "4. Divide the sum obtained by total number of sample points chosen.\n",
    "\n",
    "It is the Law of Large Number that ensures our approximation will converge to the actual value as sample size increases.  \n"
   ]
  },
  {
   "cell_type": "code",
   "execution_count": 8,
   "id": "b7ea17a4-2ee7-45ff-98d1-9cd04c8482ef",
   "metadata": {},
   "outputs": [],
   "source": [
    "import random\n",
    "import numpy as np"
   ]
  },
  {
   "cell_type": "code",
   "execution_count": 16,
   "id": "ad678a96-611a-4bc1-aff4-b58d6de4b139",
   "metadata": {},
   "outputs": [
    {
     "name": "stdout",
     "output_type": "stream",
     "text": [
      "For x^2, Actual Value: 0.33...\n",
      "0.25315\n",
      "0.34867\n",
      "0.33492\n",
      "0.33573\n",
      "0.33344\n",
      "\n",
      "For sin(x), actual value approx: 0.45969...\n",
      "0.43175\n",
      "0.49833\n",
      "0.45243\n",
      "0.46015\n",
      "0.45965\n"
     ]
    }
   ],
   "source": [
    "def x_squared_function(n):\n",
    "    total_sum = 0.0\n",
    "    for _ in range(n):\n",
    "        x = random.uniform(0,1)\n",
    "        total_sum += x**2\n",
    "    return total_sum / n\n",
    "\n",
    "# For sin(x)dx in the interval [0,1]\n",
    "def sin_function(n):\n",
    "    total_sum = 0.0\n",
    "    for _ in range(n):\n",
    "        x = random.uniform(0,1)\n",
    "        total_sum += np.sin(x)\n",
    "    return total_sum / n\n",
    "\n",
    "sample_test = [10, 100, 1000, 10000, 100000]\n",
    "print(\"For x^2, Actual Value: 0.33...\")\n",
    "for n in sample_test:\n",
    "    print(f\"{x_squared_function(n):.5f}\") \n",
    "\n",
    "print(\"\\nFor sin(x), actual value approx: 0.45969...\")\n",
    "for n in sample_test:\n",
    "    print(f\"{sin_function(n):.5f}\")"
   ]
  },
  {
   "cell_type": "markdown",
   "id": "24a17597-56f6-4360-9404-fbcae23e8514",
   "metadata": {},
   "source": [
    "#### Based on the above, this is a monte carlo based Integrator that can approximate the definite integration  "
   ]
  },
  {
   "cell_type": "code",
   "execution_count": 34,
   "id": "b9236087-f7ce-4653-a7bf-c21807c6bf97",
   "metadata": {},
   "outputs": [
    {
     "name": "stdout",
     "output_type": "stream",
     "text": [
      "For function <function <lambda> at 0x73ef2953fb50>: \n",
      "0.35583\n",
      "0.39771\n",
      "0.46370\n",
      "0.46240\n",
      "0.46067\n",
      "\n",
      "\n"
     ]
    }
   ],
   "source": [
    "# General Integrator in the interval [a, b]\n",
    "def monte_carlo_integrator(f, a, b, n):\n",
    "    total_sum = 0.0\n",
    "    for _ in range(n):\n",
    "        x = random.uniform(a,b) # sampling in the interval [a,b]\n",
    "        total_sum += f(x)\n",
    "    return total_sum/n\n",
    "\n",
    "# print(monte_carlo_integrator(lambda x: x**2, 0, 1, 100000)) # works correctly\n",
    "\n",
    "def print_values(f, a, b, n):\n",
    "    print(f\"For function {f}: \")\n",
    "    sample_test = [10, 100, 1000, 10000, 100000]\n",
    "    for n in sample_test:\n",
    "        print(f\"{monte_carlo_integrator(f, a, b, n):.5f}\")\n",
    "    print(\"\\n\")\n",
    "\n",
    "# Gives good result. If I can somehow just define a function and\n",
    "# call it as parameter to print_values - it will work smoothly\n",
    "print_values(lambda x: np.sin(x), 0, 1, 100000)"
   ]
  },
  {
   "cell_type": "code",
   "execution_count": null,
   "id": "d82611b6-2d6f-4076-819c-c149f62ac942",
   "metadata": {},
   "outputs": [],
   "source": []
  },
  {
   "cell_type": "code",
   "execution_count": null,
   "id": "501de6df-889f-49e8-a060-71bbba28b65b",
   "metadata": {},
   "outputs": [],
   "source": []
  }
 ],
 "metadata": {
  "kernelspec": {
   "display_name": "Python (Monte Carlo)",
   "language": "python",
   "name": "montecarlo-env"
  },
  "language_info": {
   "codemirror_mode": {
    "name": "ipython",
    "version": 3
   },
   "file_extension": ".py",
   "mimetype": "text/x-python",
   "name": "python",
   "nbconvert_exporter": "python",
   "pygments_lexer": "ipython3",
   "version": "3.10.12"
  }
 },
 "nbformat": 4,
 "nbformat_minor": 5
}
