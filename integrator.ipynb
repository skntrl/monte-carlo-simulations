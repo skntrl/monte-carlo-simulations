{
 "cells": [
  {
   "cell_type": "markdown",
   "id": "0366e5ef-52bc-4a32-a8f8-c6ce6d4b390e",
   "metadata": {},
   "source": [
    "# Integrator  \n",
    "\n",
    "Idea is that this will show how we can approximate a definite integral. It's actually very interesting and you'll have fun reading this.  "
   ]
  },
  {
   "cell_type": "markdown",
   "id": "b3bb6d08-4e08-4fbb-9272-64fec31e523a",
   "metadata": {},
   "source": [
    "Let's start with: $\\int_{0}^{1} x^2\\,dx$.  \n",
    "Since we are calculating the area under the graph in the interval $[0,1]$.  \n",
    "If you notice, this is actually the same as calculating ratio of circle_area and square_area, like we did in **monte_carlo_pi_estimation.ipynb**  \n",
    "\n",
    "Now, what we will do is follow the method of Riemann Sum to approximate the solution:  \n",
    "1. Take random uniform values in the interval $[0,1]$ - we will take a number of sample points.\n",
    "2. Calculate $f(x) = x^2$.\n",
    "3. Sum all those values together.\n",
    "4. Divide the sum obtained by total number of sample points chosen.\n",
    "\n",
    "It is the Law of Large Number that ensures our approximation will converge to the actual value as sample size increases.  \n"
   ]
  },
  {
   "cell_type": "code",
   "execution_count": 2,
   "id": "b7ea17a4-2ee7-45ff-98d1-9cd04c8482ef",
   "metadata": {},
   "outputs": [],
   "source": [
    "import random"
   ]
  },
  {
   "cell_type": "code",
   "execution_count": 5,
   "id": "ad678a96-611a-4bc1-aff4-b58d6de4b139",
   "metadata": {},
   "outputs": [
    {
     "name": "stdout",
     "output_type": "stream",
     "text": [
      "0.24693427549242197\n",
      "0.30171910651181305\n",
      "0.3326328989811301\n",
      "0.3308859961008569\n",
      "0.332513090990868\n"
     ]
    }
   ],
   "source": [
    "def x_squared_function(n):\n",
    "    total_sum = 0.0\n",
    "    for _ in range(n):\n",
    "        x = random.uniform(0,1)\n",
    "        total_sum += x**2\n",
    "    return total_sum / n\n",
    "\n",
    "\n",
    "sample_test = [10, 100, 1000, 10000, 100000]\n",
    "print(\"Actual Value: \n",
    "for n in sample_test:\n",
    "    print(x_squared_function(n))\n",
    "\n",
    "\n",
    "    "
   ]
  },
  {
   "cell_type": "code",
   "execution_count": null,
   "id": "b9236087-f7ce-4653-a7bf-c21807c6bf97",
   "metadata": {},
   "outputs": [],
   "source": []
  },
  {
   "cell_type": "code",
   "execution_count": null,
   "id": "d82611b6-2d6f-4076-819c-c149f62ac942",
   "metadata": {},
   "outputs": [],
   "source": []
  },
  {
   "cell_type": "code",
   "execution_count": null,
   "id": "501de6df-889f-49e8-a060-71bbba28b65b",
   "metadata": {},
   "outputs": [],
   "source": []
  }
 ],
 "metadata": {
  "kernelspec": {
   "display_name": "Python (Monte Carlo)",
   "language": "python",
   "name": "montecarlo-env"
  },
  "language_info": {
   "codemirror_mode": {
    "name": "ipython",
    "version": 3
   },
   "file_extension": ".py",
   "mimetype": "text/x-python",
   "name": "python",
   "nbconvert_exporter": "python",
   "pygments_lexer": "ipython3",
   "version": "3.10.12"
  }
 },
 "nbformat": 4,
 "nbformat_minor": 5
}
